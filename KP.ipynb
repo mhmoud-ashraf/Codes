{
 "cells": [
  {
   "cell_type": "markdown",
   "metadata": {},
   "source": [
    "# Call packages and libraries"
   ]
  },
  {
   "cell_type": "code",
   "execution_count": 12,
   "metadata": {},
   "outputs": [],
   "source": [
    "import os\n",
    "import time\n",
    "import numpy as np\n",
    "import pandas as pd\n",
    "from tqdm import tqdm\n",
    "from itertools import product\n",
    "import matplotlib.pyplot as plt"
   ]
  },
  {
   "cell_type": "code",
   "execution_count": 13,
   "metadata": {},
   "outputs": [],
   "source": [
    "import InstanceGeneratorKP as ig\n",
    "import InstanceReaderKP as ir\n",
    "import IPModelKP as ip\n",
    "import LPModelKP as lp"
   ]
  },
  {
   "cell_type": "code",
   "execution_count": 14,
   "metadata": {},
   "outputs": [],
   "source": [
    "parent_dir = os.path.dirname(os.getcwd())"
   ]
  },
  {
   "cell_type": "markdown",
   "metadata": {},
   "source": [
    "# Generate instances if necessary"
   ]
  },
  {
   "cell_type": "code",
   "execution_count": 15,
   "metadata": {},
   "outputs": [
    {
     "name": "stdout",
     "output_type": "stream",
     "text": [
      "Number of instances =  10\n"
     ]
    }
   ],
   "source": [
    "# Define range of instance parameters\n",
    "nitems = [50]\n",
    "n_replications = 10\n",
    "np.random.seed(0)\n",
    "seed = list(np.random.choice(range(1000), n_replications, replace=False))\n",
    "print('Number of instances = ', len(nitems)*n_replications)"
   ]
  },
  {
   "cell_type": "code",
   "execution_count": 16,
   "metadata": {},
   "outputs": [
    {
     "name": "stdout",
     "output_type": "stream",
     "text": [
      "Instances not generated\n"
     ]
    }
   ],
   "source": [
    "# Generate instances\n",
    "answer = input('Generate instances? (y/n) ')\n",
    "if answer != 'y':\n",
    "    print('Instances not generated')\n",
    "else:\n",
    "    instance_path = os.path.join(parent_dir, 'Instances', str(time.time()))\n",
    "    os.makedirs(instance_path, exist_ok=True)\n",
    "    print('Generating instances...')\n",
    "    for args in tqdm(product(*[nitems, seed])):\n",
    "        ig.Instance(*args).write_instance(instance_path)\n",
    "    print('Instances generated')"
   ]
  },
  {
   "cell_type": "markdown",
   "metadata": {},
   "source": [
    "# Solve instances (IP solve)"
   ]
  },
  {
   "cell_type": "code",
   "execution_count": 17,
   "metadata": {},
   "outputs": [],
   "source": [
    "folder = '1701370803.9812088'\n",
    "instance_dir = os.path.join(parent_dir, 'Instances', folder)\n",
    "models_dir = instance_dir.replace('Instances', 'Models_IP')"
   ]
  },
  {
   "cell_type": "code",
   "execution_count": 18,
   "metadata": {},
   "outputs": [
    {
     "name": "stdout",
     "output_type": "stream",
     "text": [
      "Instances not solved\n"
     ]
    }
   ],
   "source": [
    "# Solve instances\n",
    "answer = input('Solve instances? (y/n) ')\n",
    "if answer != 'y':\n",
    "    print('Instances not solved')\n",
    "else:\n",
    "    for dir in ['mps', 'lp', 'sol', 'json']:\n",
    "        os.makedirs(os.path.join(models_dir, dir), exist_ok=True)\n",
    "    print('Solving instances...')\n",
    "    for instance in tqdm(os.listdir(instance_dir)):\n",
    "        if 'instance' in instance:\n",
    "            capacity, items = ir.Instance(instance_dir, instance).read_instance()\n",
    "            ip.ModelIP(instance, capacity, items).solve(models_dir)\n",
    "    print('Instances solved')"
   ]
  },
  {
   "cell_type": "markdown",
   "metadata": {},
   "source": [
    "# Solve instances (LP solve)"
   ]
  },
  {
   "cell_type": "code",
   "execution_count": 19,
   "metadata": {},
   "outputs": [],
   "source": [
    "folder = '1701370803.9812088'\n",
    "instance_dir = os.path.join(parent_dir, 'Instances', folder)\n",
    "models_dir = instance_dir.replace('Instances', 'Models_LP')"
   ]
  },
  {
   "cell_type": "code",
   "execution_count": 20,
   "metadata": {},
   "outputs": [
    {
     "name": "stdout",
     "output_type": "stream",
     "text": [
      "Instances not solved\n"
     ]
    }
   ],
   "source": [
    "# Solve instances\n",
    "answer = input('Solve instances? (y/n) ')\n",
    "if answer != 'y':\n",
    "    print('Instances not solved')\n",
    "else:\n",
    "    for dir in ['mps', 'lp', 'sol', 'json']:\n",
    "        os.makedirs(os.path.join(models_dir, dir), exist_ok=True)\n",
    "    print('Solving instances...')\n",
    "    for instance in tqdm(os.listdir(instance_dir)):\n",
    "        if 'instance' in instance:\n",
    "            capacity, items = ir.Instance(instance_dir, instance).read_instance()\n",
    "            lp.ModelLP(instance, capacity, items).solve(models_dir)\n",
    "    print('Instances solved')"
   ]
  },
  {
   "cell_type": "markdown",
   "metadata": {},
   "source": [
    "# Load results"
   ]
  },
  {
   "cell_type": "code",
   "execution_count": 58,
   "metadata": {},
   "outputs": [],
   "source": [
    "df = pd.DataFrame(columns=['Instance', 'n', 'b', 'objVal_IP', 'RHS_IP', 'objVal_LP', 'RHS_LP', 'obj_Gap (%)', 'RHS_Gap (%)'])\n",
    "for i, instance in enumerate(os.listdir(instance_dir)):\n",
    "    if 'instance' in instance:\n",
    "        capacity, items = ir.Instance(instance_dir, instance).read_instance()\n",
    "        # Solve as IP\n",
    "        model_ip = ip.ModelIP(instance, capacity, items).load(models_dir)\n",
    "        used_items_ip = [i for i in items if model_ip.x[i-1] > 0]\n",
    "        current_capacity_ip = sum([items[i]['weight'] for i in used_items_ip])\n",
    "        # Solve as LP\n",
    "        model_lp = lp.ModelLP(instance, capacity, items).load(models_dir)\n",
    "        objVal_lp = model_lp.objVal\n",
    "        used_items_lp = [i for i in items if model_lp.x[i-1] > 0.5]\n",
    "        current_capacity_lp = sum([items[i]['weight'] for i in used_items_lp])\n",
    "        # LP feasibility check\n",
    "        c_a_ratio = {i: items[i]['profit']/items[i]['weight'] for i in items} # profit to weight ratio\n",
    "        c_a_ratio = dict(sorted(c_a_ratio.items(), key=lambda item: item[1])) # sort items by profit to weight ratio\n",
    "        while current_capacity_lp > capacity:\n",
    "            for i in c_a_ratio: # remove items with lowest profit to weight ratio until capacity is satisfied\n",
    "                if i in used_items_lp:\n",
    "                    used_items_lp.remove(i)\n",
    "                    objVal_lp -= items[i]['profit']\n",
    "                    current_capacity_lp -= items[i]['weight']\n",
    "                    break\n",
    "        # Store results\n",
    "        df.loc[i] = [*map(lambda x: int(x), [i, len(items), capacity, \n",
    "                                             model_ip.objVal, current_capacity_ip, \n",
    "                                             objVal_lp, current_capacity_lp, 0, 0])]\n",
    "# Format output\n",
    "df.sort_values(by=['b', 'objVal_IP'], inplace=True)\n",
    "df.reset_index(drop=True, inplace=True)\n",
    "df['Instance'] = 1+df.index"
   ]
  },
  {
   "cell_type": "code",
   "execution_count": 59,
   "metadata": {},
   "outputs": [
    {
     "data": {
      "text/html": [
       "<div>\n",
       "<style scoped>\n",
       "    .dataframe tbody tr th:only-of-type {\n",
       "        vertical-align: middle;\n",
       "    }\n",
       "\n",
       "    .dataframe tbody tr th {\n",
       "        vertical-align: top;\n",
       "    }\n",
       "\n",
       "    .dataframe thead th {\n",
       "        text-align: right;\n",
       "    }\n",
       "</style>\n",
       "<table border=\"1\" class=\"dataframe\">\n",
       "  <thead>\n",
       "    <tr style=\"text-align: right;\">\n",
       "      <th></th>\n",
       "      <th>Instance</th>\n",
       "      <th>n</th>\n",
       "      <th>b</th>\n",
       "      <th>objVal_IP</th>\n",
       "      <th>RHS_IP</th>\n",
       "      <th>objVal_LP</th>\n",
       "      <th>RHS_LP</th>\n",
       "      <th>obj_Gap (%)</th>\n",
       "      <th>RHS_Gap (%)</th>\n",
       "    </tr>\n",
       "  </thead>\n",
       "  <tbody>\n",
       "    <tr>\n",
       "      <th>0</th>\n",
       "      <td>1</td>\n",
       "      <td>50</td>\n",
       "      <td>10</td>\n",
       "      <td>45</td>\n",
       "      <td>10</td>\n",
       "      <td>38</td>\n",
       "      <td>8</td>\n",
       "      <td>0</td>\n",
       "      <td>0</td>\n",
       "    </tr>\n",
       "    <tr>\n",
       "      <th>1</th>\n",
       "      <td>2</td>\n",
       "      <td>50</td>\n",
       "      <td>10</td>\n",
       "      <td>55</td>\n",
       "      <td>10</td>\n",
       "      <td>55</td>\n",
       "      <td>9</td>\n",
       "      <td>0</td>\n",
       "      <td>0</td>\n",
       "    </tr>\n",
       "    <tr>\n",
       "      <th>2</th>\n",
       "      <td>3</td>\n",
       "      <td>50</td>\n",
       "      <td>10</td>\n",
       "      <td>63</td>\n",
       "      <td>10</td>\n",
       "      <td>63</td>\n",
       "      <td>10</td>\n",
       "      <td>0</td>\n",
       "      <td>0</td>\n",
       "    </tr>\n",
       "    <tr>\n",
       "      <th>3</th>\n",
       "      <td>4</td>\n",
       "      <td>50</td>\n",
       "      <td>13</td>\n",
       "      <td>52</td>\n",
       "      <td>13</td>\n",
       "      <td>52</td>\n",
       "      <td>13</td>\n",
       "      <td>0</td>\n",
       "      <td>0</td>\n",
       "    </tr>\n",
       "    <tr>\n",
       "      <th>4</th>\n",
       "      <td>5</td>\n",
       "      <td>50</td>\n",
       "      <td>14</td>\n",
       "      <td>62</td>\n",
       "      <td>14</td>\n",
       "      <td>62</td>\n",
       "      <td>13</td>\n",
       "      <td>0</td>\n",
       "      <td>0</td>\n",
       "    </tr>\n",
       "    <tr>\n",
       "      <th>5</th>\n",
       "      <td>6</td>\n",
       "      <td>50</td>\n",
       "      <td>16</td>\n",
       "      <td>69</td>\n",
       "      <td>16</td>\n",
       "      <td>69</td>\n",
       "      <td>16</td>\n",
       "      <td>0</td>\n",
       "      <td>0</td>\n",
       "    </tr>\n",
       "    <tr>\n",
       "      <th>6</th>\n",
       "      <td>7</td>\n",
       "      <td>50</td>\n",
       "      <td>17</td>\n",
       "      <td>69</td>\n",
       "      <td>17</td>\n",
       "      <td>69</td>\n",
       "      <td>15</td>\n",
       "      <td>0</td>\n",
       "      <td>0</td>\n",
       "    </tr>\n",
       "    <tr>\n",
       "      <th>7</th>\n",
       "      <td>8</td>\n",
       "      <td>50</td>\n",
       "      <td>19</td>\n",
       "      <td>66</td>\n",
       "      <td>19</td>\n",
       "      <td>59</td>\n",
       "      <td>17</td>\n",
       "      <td>0</td>\n",
       "      <td>0</td>\n",
       "    </tr>\n",
       "    <tr>\n",
       "      <th>8</th>\n",
       "      <td>9</td>\n",
       "      <td>50</td>\n",
       "      <td>19</td>\n",
       "      <td>83</td>\n",
       "      <td>19</td>\n",
       "      <td>83</td>\n",
       "      <td>19</td>\n",
       "      <td>0</td>\n",
       "      <td>0</td>\n",
       "    </tr>\n",
       "    <tr>\n",
       "      <th>9</th>\n",
       "      <td>10</td>\n",
       "      <td>50</td>\n",
       "      <td>20</td>\n",
       "      <td>94</td>\n",
       "      <td>20</td>\n",
       "      <td>85</td>\n",
       "      <td>17</td>\n",
       "      <td>0</td>\n",
       "      <td>0</td>\n",
       "    </tr>\n",
       "  </tbody>\n",
       "</table>\n",
       "</div>"
      ],
      "text/plain": [
       "   Instance   n   b  objVal_IP  RHS_IP  objVal_LP  RHS_LP  obj_Gap (%)  \\\n",
       "0         1  50  10         45      10         38       8            0   \n",
       "1         2  50  10         55      10         55       9            0   \n",
       "2         3  50  10         63      10         63      10            0   \n",
       "3         4  50  13         52      13         52      13            0   \n",
       "4         5  50  14         62      14         62      13            0   \n",
       "5         6  50  16         69      16         69      16            0   \n",
       "6         7  50  17         69      17         69      15            0   \n",
       "7         8  50  19         66      19         59      17            0   \n",
       "8         9  50  19         83      19         83      19            0   \n",
       "9        10  50  20         94      20         85      17            0   \n",
       "\n",
       "   RHS_Gap (%)  \n",
       "0            0  \n",
       "1            0  \n",
       "2            0  \n",
       "3            0  \n",
       "4            0  \n",
       "5            0  \n",
       "6            0  \n",
       "7            0  \n",
       "8            0  \n",
       "9            0  "
      ]
     },
     "execution_count": 59,
     "metadata": {},
     "output_type": "execute_result"
    }
   ],
   "source": [
    "df"
   ]
  },
  {
   "cell_type": "code",
   "execution_count": null,
   "metadata": {},
   "outputs": [],
   "source": []
  }
 ],
 "metadata": {
  "kernelspec": {
   "display_name": "py-gurobi",
   "language": "python",
   "name": "python3"
  },
  "language_info": {
   "codemirror_mode": {
    "name": "ipython",
    "version": 3
   },
   "file_extension": ".py",
   "mimetype": "text/x-python",
   "name": "python",
   "nbconvert_exporter": "python",
   "pygments_lexer": "ipython3",
   "version": "3.10.12"
  }
 },
 "nbformat": 4,
 "nbformat_minor": 2
}
